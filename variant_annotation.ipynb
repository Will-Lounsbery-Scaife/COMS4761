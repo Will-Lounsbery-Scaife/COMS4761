{
 "cells": [
  {
   "cell_type": "code",
   "execution_count": 4,
   "id": "51a98f58",
   "metadata": {},
   "outputs": [],
   "source": [
    "import pysam\n",
    "from BCBio import GFF\n",
    "from collections import defaultdict\n",
    "\n",
    "import pandas as pd\n",
    "import os"
   ]
  },
  {
   "cell_type": "code",
   "execution_count": 60,
   "id": "9dc37542",
   "metadata": {},
   "outputs": [],
   "source": [
    "#vcf_reader = pysam.VariantFile('/home/dbmi/cl4288/compg/data/breseq_zip/SRR12340679_output.vcf')"
   ]
  },
  {
   "cell_type": "code",
   "execution_count": 30,
   "id": "c1a6b02f",
   "metadata": {},
   "outputs": [
    {
     "name": "stdout",
     "output_type": "stream",
     "text": [
      "ID: NC_012967.1\n",
      "Name: <unknown name>\n",
      "Description: <unknown description>\n",
      "Number of features: 4501\n",
      "/gff-version=['3']\n",
      "/sequence-region=[('NC_012967.1', 0, 4629812)]\n",
      "/species=['https://www.ncbi.nlm.nih.gov/Taxonomy/Browser/wwwtax.cgi?id=413997']\n",
      "Undefined sequence of length 4629812\n"
     ]
    }
   ],
   "source": [
    "vcf_directory = '/home/dbmi/cl4288/compg/data/breseq_zip/'\n",
    "colnames=['CHROM','POS','ID','REF','ALT','QUAL','FILTER','INFO'] \n",
    "\n",
    "# Read GFF3/GTF file and parse genes\n",
    "genes = defaultdict(list)\n",
    "with open('/home/dbmi/cl4288/compg/data/ncbi-genomes-2023-04-25/GCF_000017985.1_ASM1798v1_genomic.gff', 'r') as gff_file:\n",
    "    for rec in GFF.parse(gff_file):\n",
    "        print(rec)\n",
    "        for feature in rec.features:\n",
    "            if feature.type == \"gene\":\n",
    "                genes[rec.id].append(feature)\n",
    "\n",
    "                \n",
    "for file_name in os.listdir(vcf_directory):\n",
    "    if file_name.endswith('.vcf'):\n",
    "        vcf_file_path = os.path.join(vcf_directory, file_name)\n",
    "        df = pd.read_csv(vcf_file_path, names = colnames,comment='#',sep='\\t')\n",
    "        # Find genes associated with variants\n",
    "        for index,record in df.iterrows():\n",
    "            position = record['POS']\n",
    "            for gene in genes['NC_012967.1']:\n",
    "                start = gene.location.start\n",
    "                end = gene.location.end\n",
    "                if start <= position <= end:\n",
    "                    gene_id = gene.qualifiers['Name'][0]\n",
    "                    cat = gene.qualifiers['gbkey'][0]\n",
    "                    gtype =  gene.qualifiers['gene_biotype']\n",
    "                    #print(f\"Variant at position {position} is in gene {gene_id}\")\n",
    "                    df.loc[index,'Gene'] = gene_id\n",
    "                    df.loc[index,'Category'] = cat\n",
    "                    df.loc[index,'GeneType'] = gtype\n",
    "                    break\n",
    "        name = file_name.split('_')[0]\n",
    "        df.to_csv(f'/home/dbmi/cl4288/compg/var_ano/{name}.csv')"
   ]
  },
  {
   "cell_type": "code",
   "execution_count": 7,
   "id": "c7a1575c",
   "metadata": {},
   "outputs": [],
   "source": [
    "colnames=['CHROM','POS','ID','REF','ALT','QUAL','FILTER','INFO'] \n",
    "df=pd.read_csv('/home/dbmi/cl4288/compg/data/breseq_zip/SRR12340679_output.vcf', names = colnames,comment='#',sep='\\t')"
   ]
  },
  {
   "cell_type": "code",
   "execution_count": 8,
   "id": "69a15d91",
   "metadata": {},
   "outputs": [
    {
     "name": "stdout",
     "output_type": "stream",
     "text": [
      "ID: NC_012967.1\n",
      "Name: <unknown name>\n",
      "Description: <unknown description>\n",
      "Number of features: 4501\n",
      "/gff-version=['3']\n",
      "/sequence-region=[('NC_012967.1', 0, 4629812)]\n",
      "/species=['https://www.ncbi.nlm.nih.gov/Taxonomy/Browser/wwwtax.cgi?id=413997']\n",
      "Undefined sequence of length 4629812\n"
     ]
    }
   ],
   "source": [
    "# Read GFF3/GTF file and parse genes\n",
    "genes = defaultdict(list)\n",
    "with open('/home/dbmi/cl4288/compg/data/ncbi-genomes-2023-04-25/GCF_000017985.1_ASM1798v1_genomic.gff', 'r') as gff_file:\n",
    "    for rec in GFF.parse(gff_file):\n",
    "        print(rec)\n",
    "        for feature in rec.features:\n",
    "            if feature.type == \"gene\":\n",
    "                genes[rec.id].append(feature)"
   ]
  },
  {
   "cell_type": "code",
   "execution_count": 38,
   "id": "75a2a254",
   "metadata": {},
   "outputs": [
    {
     "data": {
      "text/plain": [
       "ExactPosition(189)"
      ]
     },
     "execution_count": 38,
     "metadata": {},
     "output_type": "execute_result"
    }
   ],
   "source": [
    "genes['NC_012967.1'][0].location.start"
   ]
  },
  {
   "cell_type": "code",
   "execution_count": 18,
   "id": "7d55facf",
   "metadata": {},
   "outputs": [],
   "source": [
    "# Find genes associated with variants\n",
    "for index,record in df.iterrows():\n",
    "    position = record['POS']\n",
    "    for gene in genes['NC_012967.1']:\n",
    "        start = gene.location.start\n",
    "        end = gene.location.end\n",
    "        if start <= position <= end:\n",
    "            gene_id = gene.qualifiers['Name'][0]\n",
    "            cat = gene.qualifiers['gbkey'][0]\n",
    "            gtype =  gene.qualifiers['gene_biotype']\n",
    "            #print(f\"Variant at position {position} is in gene {gene_id}\")\n",
    "            df.loc[index,'Gene'] = gene_id\n",
    "            df.loc[index,'Category'] = cat\n",
    "            df.loc[index,'GeneType'] = gtype\n",
    "            break\n"
   ]
  },
  {
   "cell_type": "code",
   "execution_count": 28,
   "id": "fc1be051",
   "metadata": {},
   "outputs": [],
   "source": [
    "name = file_name.split('_')[0]\n",
    "df.to_csv(f'/home/dbmi/cl4288/compg/var_ano/{name}.csv')"
   ]
  },
  {
   "cell_type": "code",
   "execution_count": 27,
   "id": "e2ddc805",
   "metadata": {},
   "outputs": [
    {
     "data": {
      "text/plain": [
       "'SRR12340740.csv'"
      ]
     },
     "execution_count": 27,
     "metadata": {},
     "output_type": "execute_result"
    }
   ],
   "source": [
    "name = file_name.split('_')[0]\n",
    "f'{name}.csv'"
   ]
  },
  {
   "cell_type": "code",
   "execution_count": 52,
   "id": "340b596a",
   "metadata": {},
   "outputs": [
    {
     "name": "stdout",
     "output_type": "stream",
     "text": [
      "type: gene\n",
      "location: [189:255](+)\n",
      "id: gene-ECB_RS00005\n",
      "qualifiers:\n",
      "    Key: ID, Value: ['gene-ECB_RS00005']\n",
      "    Key: Name, Value: ['thrL']\n",
      "    Key: gbkey, Value: ['Gene']\n",
      "    Key: gene, Value: ['thrL']\n",
      "    Key: gene_biotype, Value: ['protein_coding']\n",
      "    Key: locus_tag, Value: ['ECB_RS00005']\n",
      "    Key: old_locus_tag, Value: ['ECB_00001']\n",
      "    Key: source, Value: ['RefSeq']\n",
      "\n"
     ]
    }
   ],
   "source": [
    "print(genes['NC_012967.1'][0])"
   ]
  },
  {
   "cell_type": "code",
   "execution_count": 59,
   "id": "ec69267e",
   "metadata": {},
   "outputs": [
    {
     "ename": "TypeError",
     "evalue": "tuple indices must be integers or slices, not str",
     "output_type": "error",
     "traceback": [
      "\u001b[0;31m---------------------------------------------------------------------------\u001b[0m",
      "\u001b[0;31mTypeError\u001b[0m                                 Traceback (most recent call last)",
      "Cell \u001b[0;32mIn[59], line 2\u001b[0m\n\u001b[1;32m      1\u001b[0m \u001b[38;5;28;01mfor\u001b[39;00m record \u001b[38;5;129;01min\u001b[39;00m df\u001b[38;5;241m.\u001b[39miterrows():\n\u001b[0;32m----> 2\u001b[0m     position \u001b[38;5;241m=\u001b[39m \u001b[43mrecord\u001b[49m\u001b[43m[\u001b[49m\u001b[38;5;124;43m'\u001b[39;49m\u001b[38;5;124;43mPOS\u001b[39;49m\u001b[38;5;124;43m'\u001b[39;49m\u001b[43m]\u001b[49m\n",
      "\u001b[0;31mTypeError\u001b[0m: tuple indices must be integers or slices, not str"
     ]
    }
   ],
   "source": [
    "for record in df.iterrows():\n",
    "    position = record['POS']"
   ]
  },
  {
   "cell_type": "code",
   "execution_count": 43,
   "id": "c7ae4da2",
   "metadata": {},
   "outputs": [],
   "source": [
    "for record in vcf_reader:\n",
    "    print(record.pos)"
   ]
  },
  {
   "cell_type": "code",
   "execution_count": 41,
   "id": "830ad6c7",
   "metadata": {},
   "outputs": [
    {
     "data": {
      "text/plain": [
       "['__class__',\n",
       " '__delattr__',\n",
       " '__dir__',\n",
       " '__doc__',\n",
       " '__eq__',\n",
       " '__format__',\n",
       " '__ge__',\n",
       " '__getattribute__',\n",
       " '__gt__',\n",
       " '__hash__',\n",
       " '__init__',\n",
       " '__init_subclass__',\n",
       " '__le__',\n",
       " '__lt__',\n",
       " '__ne__',\n",
       " '__new__',\n",
       " '__reduce__',\n",
       " '__reduce_ex__',\n",
       " '__repr__',\n",
       " '__setattr__',\n",
       " '__setstate__',\n",
       " '__sizeof__',\n",
       " '__str__',\n",
       " '__subclasshook__',\n",
       " 'alleles',\n",
       " 'alleles_variant_types',\n",
       " 'alts',\n",
       " 'chrom',\n",
       " 'contig',\n",
       " 'copy',\n",
       " 'filter',\n",
       " 'format',\n",
       " 'header',\n",
       " 'id',\n",
       " 'info',\n",
       " 'pos',\n",
       " 'qual',\n",
       " 'ref',\n",
       " 'rid',\n",
       " 'rlen',\n",
       " 'samples',\n",
       " 'start',\n",
       " 'stop',\n",
       " 'translate']"
      ]
     },
     "execution_count": 41,
     "metadata": {},
     "output_type": "execute_result"
    }
   ],
   "source": [
    "dir(record)"
   ]
  }
 ],
 "metadata": {
  "kernelspec": {
   "display_name": "py39",
   "language": "python",
   "name": "py39"
  },
  "language_info": {
   "codemirror_mode": {
    "name": "ipython",
    "version": 3
   },
   "file_extension": ".py",
   "mimetype": "text/x-python",
   "name": "python",
   "nbconvert_exporter": "python",
   "pygments_lexer": "ipython3",
   "version": "3.9.16"
  }
 },
 "nbformat": 4,
 "nbformat_minor": 5
}
